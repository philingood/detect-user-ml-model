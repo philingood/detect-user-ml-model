{
 "cells": [
  {
   "cell_type": "markdown",
   "metadata": {},
   "source": [
    "# Построение ML-модели для определения пользователя общих компьютеров"
   ]
  },
  {
   "cell_type": "markdown",
   "metadata": {},
   "source": [
    "## Задание"
   ]
  },
  {
   "cell_type": "markdown",
   "metadata": {},
   "source": [
    "Дан датасет (приложенный файл), который описывает действия конкретных пользователей за общими компьютерами в некотором университете. Каждая строчка датасета - это описание рабочей сессии пользователя за компьютером с информацией о том, какие сайты (siteN) и в какое время (timeN) пользователь открыл. Поле target - это метка, идентификатор пользователя.\n",
    "\n",
    "Ваша задача - построить ML-модель, которая решает задачу определения пользователя по его активности за общими компьютерами.\n",
    "Можно использовать модели, которые мы изучили на парах (SVM, Logreg, деревья, случайный лес, градиентный бустинг).\n",
    "\n",
    "Подсказка: данные в чистом виде (названия сайтов и время) загнать в модель не получится. Вам нужно самостоятельно вытащить признаки из этих данных.\n",
    "Например, из названий сайтов можно вытащить домен, а из времени открытия сайта - время суток, время года и т.д."
   ]
  },
  {
   "cell_type": "markdown",
   "metadata": {
    "vscode": {
     "languageId": "plaintext"
    }
   },
   "source": [
    "## 1. Импорт библиотек и подготовка данных\n",
    "Прежде всего, нужно разделить данные на признаки и целевую переменную, а затем на тренировочную и тестовую выборки.\n"
   ]
  },
  {
   "cell_type": "code",
   "execution_count": 1,
   "metadata": {},
   "outputs": [],
   "source": [
    "from sklearn.model_selection import train_test_split\n",
    "from sklearn.metrics import classification_report\n",
    "import pandas as pd\n",
    "\n",
    "# Загрузка файла и просмотр первых строк\n",
    "file_path = \"train_alice.csv\"\n",
    "data = pd.read_csv(file_path).dropna()\n",
    "\n",
    "# Удаляем ненужные столбцы\n",
    "features = data.drop(\n",
    "    columns=[\"session_id\", \"target\"]\n",
    "    + [f\"time{i}\" for i in range(1, 11) if f\"time{i}\" in data.columns]\n",
    ")\n",
    "target = data[\"target\"]\n",
    "\n",
    "# Разделение данных на тренировочную и тестовую выборки\n",
    "X_train, X_test, y_train, y_test = train_test_split(features, target, test_size=0.2)"
   ]
  },
  {
   "cell_type": "markdown",
   "metadata": {
    "vscode": {
     "languageId": "plaintext"
    }
   },
   "source": [
    "## 2. Обучение модели\n",
    "Попробуем несколько моделей, начиная с простых.\n"
   ]
  },
  {
   "cell_type": "markdown",
   "metadata": {
    "vscode": {
     "languageId": "plaintext"
    }
   },
   "source": [
    "#### Логистическая регрессия:"
   ]
  },
  {
   "cell_type": "code",
   "execution_count": 2,
   "metadata": {},
   "outputs": [
    {
     "name": "stdout",
     "output_type": "stream",
     "text": [
      "Report:\n",
      "               precision    recall  f1-score   support\n",
      "\n",
      "           0       0.99      0.29      0.45     41184\n",
      "           1       0.01      0.76      0.02       410\n",
      "\n",
      "    accuracy                           0.29     41594\n",
      "   macro avg       0.50      0.52      0.23     41594\n",
      "weighted avg       0.98      0.29      0.44     41594\n",
      "\n"
     ]
    }
   ],
   "source": [
    "from sklearn.linear_model import LogisticRegression\n",
    "\n",
    "# Логистическая регрессия\n",
    "lr = LogisticRegression(max_iter=1000, class_weight='balanced')\n",
    "lr.fit(X_train, y_train)\n",
    "\n",
    "# Оценка модели\n",
    "y_pred = lr.predict(X_test)\n",
    "print(\"Report:\\n\", classification_report(y_test, y_pred))"
   ]
  },
  {
   "cell_type": "markdown",
   "metadata": {},
   "source": [
    "### Дерево решений:\n"
   ]
  },
  {
   "cell_type": "code",
   "execution_count": 3,
   "metadata": {},
   "outputs": [
    {
     "name": "stdout",
     "output_type": "stream",
     "text": [
      "Report (Decision Tree):\n",
      "               precision    recall  f1-score   support\n",
      "\n",
      "           0       0.99      0.99      0.99     41184\n",
      "           1       0.12      0.16      0.14       410\n",
      "\n",
      "    accuracy                           0.98     41594\n",
      "   macro avg       0.56      0.57      0.56     41594\n",
      "weighted avg       0.98      0.98      0.98     41594\n",
      "\n"
     ]
    }
   ],
   "source": [
    "from sklearn.tree import DecisionTreeClassifier\n",
    "\n",
    "# Дерево решений\n",
    "tree = DecisionTreeClassifier(random_state=42)\n",
    "tree.fit(X_train, y_train)\n",
    "\n",
    "# Оценка модели\n",
    "y_pred = tree.predict(X_test)\n",
    "print(\"Report (Decision Tree):\\n\", classification_report(y_test, y_pred))"
   ]
  },
  {
   "cell_type": "markdown",
   "metadata": {
    "vscode": {
     "languageId": "plaintext"
    }
   },
   "source": [
    "### Случайный лес:"
   ]
  },
  {
   "cell_type": "code",
   "execution_count": 4,
   "metadata": {},
   "outputs": [
    {
     "name": "stdout",
     "output_type": "stream",
     "text": [
      "Report (Random Forest):\n",
      "               precision    recall  f1-score   support\n",
      "\n",
      "           0       0.99      1.00      1.00     41184\n",
      "           1       0.79      0.04      0.07       410\n",
      "\n",
      "    accuracy                           0.99     41594\n",
      "   macro avg       0.89      0.52      0.53     41594\n",
      "weighted avg       0.99      0.99      0.99     41594\n",
      "\n"
     ]
    }
   ],
   "source": [
    "from sklearn.ensemble import RandomForestClassifier\n",
    "\n",
    "# Случайный лес\n",
    "forest = RandomForestClassifier(n_estimators=100, random_state=42)\n",
    "forest.fit(X_train, y_train)\n",
    "\n",
    "# Оценка модели\n",
    "y_pred = forest.predict(X_test)\n",
    "print(\"Report (Random Forest):\\n\", classification_report(y_test, y_pred))"
   ]
  },
  {
   "cell_type": "markdown",
   "metadata": {
    "vscode": {
     "languageId": "plaintext"
    }
   },
   "source": [
    "### Градиентный бустинг:"
   ]
  },
  {
   "cell_type": "code",
   "execution_count": 5,
   "metadata": {},
   "outputs": [
    {
     "name": "stdout",
     "output_type": "stream",
     "text": [
      "Report (Gradient Boosting):\n",
      "               precision    recall  f1-score   support\n",
      "\n",
      "           0       0.99      1.00      1.00     41184\n",
      "           1       0.89      0.14      0.24       410\n",
      "\n",
      "    accuracy                           0.99     41594\n",
      "   macro avg       0.94      0.57      0.62     41594\n",
      "weighted avg       0.99      0.99      0.99     41594\n",
      "\n"
     ]
    }
   ],
   "source": [
    "from sklearn.ensemble import GradientBoostingClassifier\n",
    "\n",
    "# Градиентный бустинг\n",
    "gb = GradientBoostingClassifier(n_estimators=100, random_state=42)\n",
    "gb.fit(X_train, y_train)\n",
    "\n",
    "# Оценка модели\n",
    "y_pred = gb.predict(X_test)\n",
    "print(\"Report (Gradient Boosting):\\n\", classification_report(y_test, y_pred))"
   ]
  },
  {
   "cell_type": "markdown",
   "metadata": {
    "vscode": {
     "languageId": "plaintext"
    }
   },
   "source": [
    "### SVM (метод опорных векторов):\n"
   ]
  },
  {
   "cell_type": "code",
   "execution_count": 6,
   "metadata": {},
   "outputs": [
    {
     "name": "stdout",
     "output_type": "stream",
     "text": [
      "Report (SVM):\n",
      "               precision    recall  f1-score   support\n",
      "\n",
      "           0       0.99      0.99      0.99     41184\n",
      "           1       0.01      0.01      0.01       410\n",
      "\n",
      "    accuracy                           0.98     41594\n",
      "   macro avg       0.50      0.50      0.50     41594\n",
      "weighted avg       0.98      0.98      0.98     41594\n",
      "\n"
     ]
    }
   ],
   "source": [
    "from sklearn.svm import SVC\n",
    "\n",
    "# Слабый комп, поэтому\n",
    "X_train_sample = X_train.sample(n=200, random_state=42)\n",
    "y_train_sample = y_train[X_train_sample.index]\n",
    "\n",
    "# Метод опорных векторов\n",
    "svc = SVC(kernel='linear')\n",
    "svc.fit(X_train_sample, y_train_sample)\n",
    "\n",
    "# Оценка модели\n",
    "y_pred = svc.predict(X_test)\n",
    "print(\"Report (SVM):\\n\", classification_report(y_test, y_pred))"
   ]
  }
 ],
 "metadata": {
  "kernelspec": {
   "display_name": "liza",
   "language": "python",
   "name": "python3"
  },
  "language_info": {
   "codemirror_mode": {
    "name": "ipython",
    "version": 3
   },
   "file_extension": ".py",
   "mimetype": "text/x-python",
   "name": "python",
   "nbconvert_exporter": "python",
   "pygments_lexer": "ipython3",
   "version": "3.13.1"
  }
 },
 "nbformat": 4,
 "nbformat_minor": 2
}
